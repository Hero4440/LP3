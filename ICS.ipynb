{
 "cells": [
  {
   "cell_type": "code",
   "execution_count": 7,
   "id": "44cf1a8e-e567-4ce9-97e8-22f3e2c32c2b",
   "metadata": {},
   "outputs": [
    {
     "name": "stdin",
     "output_type": "stream",
     "text": [
      "Enter a message:  hello world\n"
     ]
    },
    {
     "name": "stdout",
     "output_type": "stream",
     "text": [
      "Cipher text: b'6\\xb6\\xfa\\xf1HN\\xefKv\\xae\\x82'\n",
      "Plain text: hello world\n"
     ]
    }
   ],
   "source": [
    "# AES\n",
    "\n",
    "from Crypto.Cipher import AES\n",
    "from secrets import token_bytes\n",
    "\n",
    "key = token_bytes(16)\n",
    "\n",
    "def encrypt(msg):\n",
    "    cipher = AES.new(key, AES.MODE_EAX)\n",
    "    nonce = cipher.nonce\n",
    "    ciphertext, tag = cipher.encrypt_and_digest(msg.encode('ascii'))\n",
    "    return nonce, ciphertext, tag\n",
    "\n",
    "def decrypt(nonce, ciphertext, tag):\n",
    "    cipher = AES.new(key, AES.MODE_EAX, nonce=nonce)\n",
    "    plaintext = cipher.decrypt(ciphertext)\n",
    "    try:\n",
    "        cipher.verify(tag)\n",
    "        return plaintext.decode('ascii')\n",
    "    except:\n",
    "        return False\n",
    "\n",
    "nonce, ciphertext, tag = encrypt(input('Enter a message: '))\n",
    "plaintext = decrypt(nonce, ciphertext, tag)\n",
    "print(f'Cipher text: {ciphertext}')\n",
    "if not plaintext:\n",
    "    print('Message is corrupted')\n",
    "else:\n",
    "    print(f'Plain text: {plaintext}')\n"
   ]
  },
  {
   "cell_type": "code",
   "execution_count": 8,
   "id": "3e941c6b-dddc-48b5-bfbb-0ea047628b90",
   "metadata": {},
   "outputs": [
    {
     "name": "stdin",
     "output_type": "stream",
     "text": [
      "Enter a message:  hello world\n"
     ]
    },
    {
     "name": "stdout",
     "output_type": "stream",
     "text": [
      "Cipher text: b'fR\\xa7\\xfc)\\xfa^ ;\\xb1R'\n",
      "Plain text: hello world\n"
     ]
    }
   ],
   "source": [
    "# S-DES\n",
    "\n",
    "from Crypto.Cipher import DES\n",
    "from secrets import token_bytes\n",
    "\n",
    "key = token_bytes(8)\n",
    "\n",
    "def encrypt(msg):\n",
    "    cipher = DES.new(key, DES.MODE_EAX)\n",
    "    nonce = cipher.nonce\n",
    "    ciphertext, tag = cipher.encrypt_and_digest(msg.encode('ascii'))\n",
    "    return nonce, ciphertext, tag\n",
    "\n",
    "def decrypt(nonce, ciphertext, tag):\n",
    "    cipher = DES.new(key, DES.MODE_EAX, nonce=nonce)\n",
    "    plaintext = cipher.decrypt(ciphertext)\n",
    "\n",
    "    try:\n",
    "        cipher.verify(tag)\n",
    "        return plaintext.decode('ascii')\n",
    "    except:\n",
    "        return False\n",
    "\n",
    "nonce, ciphertext, tag = encrypt(input('Enter a message: '))\n",
    "plaintext = decrypt(nonce, ciphertext, tag)\n",
    "\n",
    "print(f'Cipher text: {ciphertext}')\n",
    "\n",
    "if not plaintext:\n",
    "    print('Message is corrupted!')\n",
    "else:\n",
    "    print(f'Plain text: {plaintext}')\n"
   ]
  },
  {
   "cell_type": "code",
   "execution_count": 9,
   "id": "9ccda17f-6dc3-46c3-adc8-6581c8bb5d6f",
   "metadata": {},
   "outputs": [
    {
     "name": "stdout",
     "output_type": "stream",
     "text": [
      "Cipher text:  [314, 93, 264, 264, 185, 259, 121, 185, 162, 264, 31, 277]\n",
      "Decrypted text:  hello world!\n"
     ]
    }
   ],
   "source": [
    "# RSA\n",
    "\n",
    "import random\n",
    "import string\n",
    "\n",
    "\n",
    "def get_N(p, q):\n",
    "    return p*q\n",
    "\n",
    "def phi_of_n(p, q):\n",
    "    return (p - 1) * (q - 1)\n",
    "\n",
    "def get_gcd(x, y):\n",
    "    while(y):\n",
    "        x, y = y, x % y\n",
    "    return x\n",
    "\n",
    "# Generate Public and private keys\n",
    "\n",
    "def get_encryption_key(n, phi_of_n):\n",
    "    lst = [i for i in range(1, n+1)]\n",
    "    e_list = []\n",
    "    for i in lst:\n",
    "        if (1 < i) and (i < phi_of_n):\n",
    "            gcd = get_gcd(i, n)\n",
    "            gcd_phi = get_gcd(i, phi_of_n)\n",
    "            if (gcd == 1) and (gcd_phi == 1):\n",
    "                e_list.append(i)\n",
    "    if len(e_list) == 1:\n",
    "        return e_list[0]\n",
    "    else:\n",
    "        return e_list[random.randint(1, len(e_list)-1)]  \n",
    "\n",
    "\n",
    "def get_decryption_key(e, phi_of_n):\n",
    "    d_list = []\n",
    "    for i in range(e * 25):\n",
    "        if (e * i) % phi_of_n == 1:\n",
    "            d_list.append(i)\n",
    "    return d_list[random.randint(1, len(d_list) - 1)]\n",
    "\n",
    "\n",
    "p = 11\n",
    "q = 29\n",
    "n = get_N(p, q)  # 319\n",
    "phi_func = phi_of_n(p, q)  # 280\n",
    "e = get_encryption_key(n, phi_func)\n",
    "d = get_decryption_key(e, phi_func)\n",
    "# to avoid key collision\n",
    "while d == e:\n",
    "    d = get_decryption_key(e, phi_func)\n",
    "\n",
    "public_key = [e, n]  # [137, 319]\n",
    "private_key = [d, n]  # [1633, 319]\n",
    "\n",
    "# Encryption\n",
    "def text_to_digits(PT):\n",
    "    pool = string.ascii_letters + string.punctuation + \" \"\n",
    "    M = []\n",
    "    for i in PT:\n",
    "        M.append(pool.index(i))\n",
    "    return M\n",
    "\n",
    "def digits_to_text(DT):\n",
    "    pool = string.ascii_letters + string.punctuation + \" \"\n",
    "    msg = ''\n",
    "    for i in DT:\n",
    "        # print(i)\n",
    "        msg += pool[i]\n",
    "    return msg\n",
    "    \n",
    "def encrypt(M, public_key):\n",
    "    return [(i ** public_key[0]) % public_key[1] for i in M]\n",
    "\n",
    "message = \"hello world!\"\n",
    "M = text_to_digits(message)\n",
    "CT = encrypt(M, public_key)\n",
    "print(\"Cipher text: \",CT)\n",
    "\n",
    "# Decryption\n",
    "def decrypt(CT, private_key):\n",
    "    return [((i ** private_key[0]) % private_key[1]) for i in CT]\n",
    "\n",
    "\n",
    "\n",
    "DT = decrypt(CT, private_key) \n",
    "m = digits_to_text(DT)\n",
    "print(\"Decrypted text: \", m)"
   ]
  },
  {
   "cell_type": "code",
   "execution_count": 10,
   "id": "c3ca4327-4f8e-48f9-96b0-db0cdc33d8d5",
   "metadata": {},
   "outputs": [
    {
     "name": "stdout",
     "output_type": "stream",
     "text": [
      "The value of p is: 27\n",
      "The value of g is: 13\n",
      "The Private key for a is: 7\n",
      "The Private key for b is: 2\n",
      "Secret key for a is: 16\n",
      "Secret key for b is: 16\n"
     ]
    }
   ],
   "source": [
    "# Diffie Hellman\n",
    "\n",
    "p = 27\n",
    "g = 13\n",
    "\n",
    "print(f'The value of p is: {p}')\n",
    "print(f'The value of g is: {g}')\n",
    "\n",
    "a = 7\n",
    "print(f'The Private key for a is: {a}')\n",
    "x = int(pow(g,a,p))\n",
    "\n",
    "b = 2\n",
    "print(f'The Private key for b is: {b}')\n",
    "y = int(pow(g,b,p))\n",
    "\n",
    "ka = int(pow(y,a,p))\n",
    "kb = int(pow(x,b,p))\n",
    "\n",
    "print(f'Secret key for a is: {ka}')\n",
    "print(f'Secret key for b is: {kb}')"
   ]
  },
  {
   "cell_type": "code",
   "execution_count": null,
   "id": "82c48064-86cb-436a-ad9a-28755f204c7a",
   "metadata": {},
   "outputs": [],
   "source": []
  }
 ],
 "metadata": {
  "kernelspec": {
   "display_name": "Python 3 (ipykernel)",
   "language": "python",
   "name": "python3"
  },
  "language_info": {
   "codemirror_mode": {
    "name": "ipython",
    "version": 3
   },
   "file_extension": ".py",
   "mimetype": "text/x-python",
   "name": "python",
   "nbconvert_exporter": "python",
   "pygments_lexer": "ipython3",
   "version": "3.9.5"
  }
 },
 "nbformat": 4,
 "nbformat_minor": 5
}
